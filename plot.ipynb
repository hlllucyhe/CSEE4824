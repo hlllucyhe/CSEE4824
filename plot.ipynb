{
 "cells": [
  {
   "cell_type": "code",
   "execution_count": null,
   "id": "dc5ea0a7",
   "metadata": {},
   "outputs": [],
   "source": [
    "import pandas as pd\n",
    "import matplotlib.pyplot as plt\n",
    "import seaborn as sns\n",
    "from google.colab import drive \n",
    "drive.mount('/content/gdrive')"
   ]
  },
  {
   "cell_type": "code",
   "execution_count": null,
   "id": "080b875a",
   "metadata": {},
   "outputs": [
    {
     "ename": "",
     "evalue": "",
     "output_type": "error",
     "traceback": [
      "\u001b[1;31mRunning cells with 'Python 3.10.11' requires the ipykernel package.\n",
      "\u001b[1;31m<a href='command:jupyter.createPythonEnvAndSelectController'>Create a Python Environment</a> with the required packages."
     ]
    }
   ],
   "source": [
    "df = pd.read_csv('gdrive/My Drive/Fall 2025/CSEE4824/results100000.csv')\n",
    "\n",
    "# box plot\n",
    "plt.figure(figsize=(12, 8))\n",
    "sns.boxplot(data=df, x='Size(Bytes)', y='Time(Ticks)')\n",
    "plt.yscale(\"log\")\n",
    "plt.title(\"Box plot of memcpy time for different sizes\")\n",
    "plt.xlabel(\"Size (Bytes)\")\n",
    "plt.ylabel(\"Time (ticks)\")\n",
    "\n",
    "# violin plot\n",
    "plt.figure(figsize=(20, 16))\n",
    "sns.violinplot(data=df, x='Size(Bytes)', y='Time(Ticks)')\n",
    "plt.yscale(\"log\")\n",
    "plt.title(\"Violin plot of memcpy time for different sizes\")\n",
    "plt.xlabel(\"Size (Bytes)\")\n",
    "plt.ylabel(\"Time (ticks)\")\n",
    "\n",
    "# histograms\n",
    "for size, size_df in df.groupby(\"Size(Bytes)\"):\n",
    "  # filtering outliers\n",
    "  low = size_df[\"Time(Ticks)\"].quantile(0.01)\n",
    "  high = size_df[\"Time(Ticks)\"].quantile(0.99)\n",
    "  size_df = size_df[(size_df[\"Time(Ticks)\"] >= low) & (size_df[\"Time(Ticks)\"] <= high)]\n",
    "  plt.figure(figsize=(10, 6))\n",
    "  sns.histplot(data=size_df, x='Time(Ticks)', bins=100, kde=True)\n",
    "  plt.title(\"Distributions of memcpy time for size {} Bytes\".format(size))\n",
    "  plt.xlabel(\"Time (ticks)\")\n",
    "  plt.ylabel(\"Count\")"
   ]
  }
 ],
 "metadata": {
  "kernelspec": {
   "display_name": ".venv",
   "language": "python",
   "name": "python3"
  },
  "language_info": {
   "name": "python",
   "version": "3.11.9"
  }
 },
 "nbformat": 4,
 "nbformat_minor": 5
}
